{
 "cells": [
  {
   "cell_type": "code",
   "execution_count": 85,
   "metadata": {},
   "outputs": [],
   "source": [
    "import numpy as np\n",
    "\n",
    "c = 1\n",
    "k = 2\n",
    "P = 2\n",
    "\n",
    "def residue(x1, x3, y1, y3, omega, beta):\n",
    "\n",
    "    r1 = P/2 - 3*beta*(x1**3 + x1*y1**2 + x1**2*x3 - x3*y1**2 + 2*x1*y1*y3 + 2*x1*x3**2 + 2*x1*y3**2) - k*x1 + omega*c*y1 + omega**2*x1\n",
    "    r3 = -beta*(x1**3 - 3*x1*y1**2 + 3*x3**3 + 3*x3*y3**2 + 6*x1**2*x3 + 6*x3*y1**2) - k*x3 + 3*omega*c*y3 + 9*omega**2*x3\n",
    "    i1 = -3*beta*(x1**2*y1 + y1**3 + x1**2*y3 - y1**2*y3 - 2*x1*x3*y1 + 2*x3**2*y1 + 2*y1*y3**2) - k*y1 - omega*c*x1 + omega**2*y1\n",
    "    i3 = -beta*(3*x1**2*y1 - y1**3 + 3*x3**2*y3 + 3*y3**3 + 6*x1**2*y3 + 6*y1**2*y3) - k*y3 - 3*omega*c*x3 + 9*omega**2*y3\n",
    "\n",
    "    return np.array([r1,r3,i1,i3])\n",
    "\n",
    "def jacobian(x1, x3, y1, y3, omega, beta):\n",
    "\n",
    "    r1x1 = -3*beta*(3*x1**2 + y1**2 + 2*x1*x3 + 2*y1*y3 + 2*x3**2 + 2*y3**2) - k + omega**2\n",
    "    r3x1 = -3*beta*(x1**2 - y1**2 + 4*x1*x3)\n",
    "    i1x1 = -3*beta*(2*x1*y1 + 2*x1*y3 - 2*x3*y1) - omega*c\n",
    "    i3x1 = -3*beta*(2*x1*y1 + 4*x1*y3)\n",
    "\n",
    "    r1x3 = -3*beta*(x1**2 - y1**2 + 4*x1*x3)\n",
    "    r3x3 = -3*beta*(3*x3**2 + y3**2 + 2*x1**2 + 2*y1**2) - k + 9*omega**2 \n",
    "    i1x3 = -3*beta*(-2*x1*y1 + 4*x3*y1)\n",
    "    i3x3 = -3*beta*(2*x3*y3) - 3*omega*c\n",
    "\n",
    "    r1y1 = -3*beta*(2*x1*y1 - 2*x3*y1 + 2*x1*y3) + omega*c\n",
    "    r3y1 = -3*beta*(-2*x1*y1 + 4*x3*y1)\n",
    "    i1y1 = -3*beta*(x1**2 + 3*y1**2 - 2*y1*y3 - 2*x1*x3 + 2*x3**2 + 2*y3**2) - k + omega**2\n",
    "    i3y1 = -3*beta*(x1**2 - y1**2 + 4*y1*y3)\n",
    "\n",
    "    r1y3 = -3*beta*(2*x1*y1 + 4*x1*y3)\n",
    "    r3y3 = -3*beta*(2*x3*y3) + 3*omega*c\n",
    "    i1y3 = -3*beta*(x1**2 - y1**2 + 4*y1*y3)\n",
    "    i3y3 = -3*beta*(x3**2 + 3*y3**2 + 2*x1**2 + 2*y1**2) - k + 9*omega**2\n",
    "\n",
    "    return np.array([\n",
    "        [r1x1,   r1x3,   r1y1,   r1y3],\n",
    "        [r3x1,   r3x3,   r3y1,   r3y3],\n",
    "        [i1x1,   i1x3,   i1y1,   i1y3],\n",
    "        [i3x1,   i3x3,   i3y1,   i3y3]])\n",
    "\n"
   ]
  },
  {
   "cell_type": "code",
   "execution_count": 86,
   "metadata": {},
   "outputs": [
    {
     "name": "stdout",
     "output_type": "stream",
     "text": [
      "[177.  -2.  63. -11.] \n",
      "\n",
      "[[ 59.  -9.  -2. -12.]\n",
      " [ -9. 868.  12.  30.]\n",
      " [-22.  12.  77.  -9.]\n",
      " [-12. -30.  -9. 868.]] \n",
      "\n"
     ]
    }
   ],
   "source": [
    "q1 = 2 + 1j\n",
    "q3 = 0 + 0j\n",
    "omega = 10\n",
    "beta = 1\n",
    "\n",
    "print(residue(q1.real, q3.real, q1.imag, q3.imag, omega, beta), \"\\n\")\n",
    "\n",
    "print(jacobian(q1.real, q3.real, q1.imag, q3.imag, omega, beta), \"\\n\")"
   ]
  },
  {
   "cell_type": "code",
   "execution_count": 71,
   "metadata": {},
   "outputs": [
    {
     "data": {
      "text/plain": [
       "13.0"
      ]
     },
     "execution_count": 71,
     "metadata": {},
     "output_type": "execute_result"
    }
   ],
   "source": []
  }
 ],
 "metadata": {
  "kernelspec": {
   "display_name": "base",
   "language": "python",
   "name": "python3"
  },
  "language_info": {
   "codemirror_mode": {
    "name": "ipython",
    "version": 3
   },
   "file_extension": ".py",
   "mimetype": "text/x-python",
   "name": "python",
   "nbconvert_exporter": "python",
   "pygments_lexer": "ipython3",
   "version": "3.12.4"
  }
 },
 "nbformat": 4,
 "nbformat_minor": 2
}
